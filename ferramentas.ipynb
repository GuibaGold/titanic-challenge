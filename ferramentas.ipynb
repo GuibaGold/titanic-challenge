{
 "cells": [
  {
   "cell_type": "markdown",
   "metadata": {},
   "source": [
    "Funções para tratamento de Dados e manipulação"
   ]
  },
  {
   "cell_type": "code",
   "execution_count": 1,
   "metadata": {},
   "outputs": [],
   "source": [
    "import numpy as numpy\n",
    "import pandas as panda\n",
    "\n",
    "teste = panda.read_csv(\"test.csv\")"
   ]
  },
  {
   "cell_type": "code",
   "execution_count": 2,
   "metadata": {},
   "outputs": [],
   "source": [
    "def limpar_dados(dados):\n",
    "    dados[\"Fare\"] = dados[\"Fare\"].fillna(dados[\"Fare\"].dropna().median())\n",
    "    dados[\"Age\"] = dados[\"Age\"].fillna(dados[\"Age\"].dropna().median())\n",
    "\n",
    "\n",
    "    dados.loc[dados[\"Sex\"] == \"male\", \"Sex\"] = 0\n",
    "    dados.loc[dados[\"Sex\"] == \"female\", \"Sex\"] = 1\n",
    "\n",
    "    dados[\"Embarked\"] = dados[\"Embarked\"].fillna(\"S\")\n",
    "    dados.loc[dados[\"Embarked\"] == \"S\", \"Embarked\"] = 0\n",
    "    dados.loc[dados[\"Embarked\"] == \"C\", \"Embarked\"] = 1\n",
    "    dados.loc[dados[\"Embarked\"] == \"Q\", \"Embarked\"] = 2"
   ]
  },
  {
   "cell_type": "code",
   "execution_count": 3,
   "metadata": {},
   "outputs": [],
   "source": [
    "def escrever_previsao(previsao, nome):\n",
    "    IdPassageiro = numpy.array(teste[\"PassengerId\"]).astype(int)\n",
    "    solucao = panda.DataFrame(previsao, IdPassageiro, columns = [\"Survived\"])\n",
    "    solucao.to_csv(nome, index_label = [\"PassengerId\"])"
   ]
  }
 ],
 "metadata": {
  "kernelspec": {
   "display_name": "Python 3",
   "language": "python",
   "name": "python3"
  },
  "language_info": {
   "codemirror_mode": {
    "name": "ipython",
    "version": 3
   },
   "file_extension": ".py",
   "mimetype": "text/x-python",
   "name": "python",
   "nbconvert_exporter": "python",
   "pygments_lexer": "ipython3",
   "version": "3.6.8"
  }
 },
 "nbformat": 4,
 "nbformat_minor": 2
}
