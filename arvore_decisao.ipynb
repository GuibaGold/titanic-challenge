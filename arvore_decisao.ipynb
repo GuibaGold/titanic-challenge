{
 "cells": [
  {
   "cell_type": "markdown",
   "metadata": {},
   "source": [
    "Tree Decision Model Machine Learning Titanic"
   ]
  },
  {
   "cell_type": "code",
   "execution_count": 8,
   "metadata": {},
   "outputs": [
    {
     "name": "stdout",
     "output_type": "stream",
     "text": [
      "\n",
      " Extraindo alvo e caracteristicas dos dados\n"
     ]
    }
   ],
   "source": [
    "import pandas as panda \n",
    "import limparDados\n",
    "from sklearn import tree, model_selection\n",
    "\n",
    "treinamento = panda.read_csv(\"train.csv\")\n",
    "teste = panda.read_csv(\"test.csv\")\n",
    "\n",
    "#Adicionando dados aos campos vazios\n",
    "limparDados.limpar_dados(treinamento)\n",
    "limparDados.limpar_dados(teste)\n",
    "print(\"\\n Extraindo alvo e caracteristicas dos dados\")"
   ]
  },
  {
   "cell_type": "code",
   "execution_count": 9,
   "metadata": {},
   "outputs": [
    {
     "name": "stdout",
     "output_type": "stream",
     "text": [
      "0.9797979797979798\n",
      "\n",
      " Realizando previsao no DataSet de Testes\n"
     ]
    }
   ],
   "source": [
    "alvo = treinamento[\"Survived\"].values\n",
    "#Escolhendo os features baseado na vizualização dos dados\n",
    "nomes_feat = [\"Pclass\", \"Age\", \"Fare\", \"Embarked\", \"Sex\", \"SibSp\", \"Parch\"]\n",
    "feat = treinamento[nomes_feat].values\n",
    "\n",
    "#Construindo a arvore de decisões\n",
    "arvore_decisao = tree.DecisionTreeClassifier(random_state=1)\n",
    "arvore_decisao = arvore_decisao.fit(feat, alvo)\n",
    "print(arvore_decisao.score(feat, alvo))\n",
    "\n",
    "print(\"\\n Realizando previsao no DataSet de Testes\")"
   ]
  },
  {
   "cell_type": "code",
   "execution_count": 10,
   "metadata": {},
   "outputs": [
    {
     "name": "stdout",
     "output_type": "stream",
     "text": [
      "\n",
      " Teste realizado\n"
     ]
    }
   ],
   "source": [
    "teste_feat = teste[[\"Pclass\", \"Age\", \"Fare\", \"Embarked\", \"Sex\", \"SibSp\", \"Parch\"]].values\n",
    "#realizando a previsão de acordo com as features escolhidas\n",
    "previsao = arvore_decisao.predict(teste_feat)\n",
    "limparDados.escrever_previsao(previsao, \"arvore_decisao.csv\")\n",
    "\n",
    "print(\"\\n Teste realizado\")"
   ]
  },
  {
   "cell_type": "code",
   "execution_count": 11,
   "metadata": {},
   "outputs": [
    {
     "name": "stdout",
     "output_type": "stream",
     "text": [
      "[0.17060767 0.12783353 0.15175864 0.01001273 0.47976487 0.05205183\n",
      " 0.00797074]\n",
      "0.8787878787878788\n"
     ]
    },
    {
     "data": {
      "text/plain": [
       "[Text(140.10652173913044, 203.85, 'Sex <= 0.5\\nentropy = 0.473\\nsamples = 891\\nvalue = [549, 342]'),\n",
       " Text(47.61195652173913, 176.67000000000002, 'Age <= 6.5\\nentropy = 0.306\\nsamples = 577\\nvalue = [468, 109]'),\n",
       " Text(9.704347826086957, 149.49, 'SibSp <= 2.5\\nentropy = 0.444\\nsamples = 24\\nvalue = [8, 16]'),\n",
       " Text(4.852173913043479, 122.31, 'entropy = 0.0\\nsamples = 15\\nvalue = [0, 15]'),\n",
       " Text(14.556521739130435, 122.31, 'Age <= 2.5\\nentropy = 0.198\\nsamples = 9\\nvalue = [8, 1]'),\n",
       " Text(9.704347826086957, 95.13, 'entropy = 0.0\\nsamples = 5\\nvalue = [5, 0]'),\n",
       " Text(19.408695652173915, 95.13, 'Fare <= 31.331\\nentropy = 0.375\\nsamples = 4\\nvalue = [3, 1]'),\n",
       " Text(14.556521739130435, 67.94999999999999, 'entropy = 0.0\\nsamples = 3\\nvalue = [3, 0]'),\n",
       " Text(24.260869565217394, 67.94999999999999, 'entropy = 0.0\\nsamples = 1\\nvalue = [0, 1]'),\n",
       " Text(85.51956521739132, 149.49, 'Pclass <= 1.5\\nentropy = 0.28\\nsamples = 553\\nvalue = [460, 93]'),\n",
       " Text(46.095652173913045, 122.31, 'Fare <= 26.144\\nentropy = 0.46\\nsamples = 120\\nvalue = [77, 43]'),\n",
       " Text(41.243478260869566, 95.13, 'entropy = 0.0\\nsamples = 10\\nvalue = [10, 0]'),\n",
       " Text(50.947826086956525, 95.13, 'Age <= 53.0\\nentropy = 0.476\\nsamples = 110\\nvalue = [67, 43]'),\n",
       " Text(33.96521739130435, 67.94999999999999, 'Fare <= 27.135\\nentropy = 0.495\\nsamples = 89\\nvalue = [49, 40]'),\n",
       " Text(24.260869565217394, 40.77000000000001, 'Fare <= 26.469\\nentropy = 0.26\\nsamples = 13\\nvalue = [2, 11]'),\n",
       " Text(19.408695652173915, 13.590000000000003, 'entropy = 0.0\\nsamples = 4\\nvalue = [0, 4]'),\n",
       " Text(29.11304347826087, 13.590000000000003, 'entropy = 0.346\\nsamples = 9\\nvalue = [2, 7]'),\n",
       " Text(43.66956521739131, 40.77000000000001, 'Fare <= 387.665\\nentropy = 0.472\\nsamples = 76\\nvalue = [47, 29]'),\n",
       " Text(38.81739130434783, 13.590000000000003, 'entropy = 0.463\\nsamples = 74\\nvalue = [47, 27]'),\n",
       " Text(48.52173913043479, 13.590000000000003, 'entropy = 0.0\\nsamples = 2\\nvalue = [0, 2]'),\n",
       " Text(67.9304347826087, 67.94999999999999, 'Age <= 75.5\\nentropy = 0.245\\nsamples = 21\\nvalue = [18, 3]'),\n",
       " Text(63.07826086956522, 40.77000000000001, 'Embarked <= 0.5\\nentropy = 0.18\\nsamples = 20\\nvalue = [18, 2]'),\n",
       " Text(58.22608695652174, 13.590000000000003, 'entropy = 0.0\\nsamples = 12\\nvalue = [12, 0]'),\n",
       " Text(67.9304347826087, 13.590000000000003, 'entropy = 0.375\\nsamples = 8\\nvalue = [6, 2]'),\n",
       " Text(72.78260869565219, 40.77000000000001, 'entropy = 0.0\\nsamples = 1\\nvalue = [0, 1]'),\n",
       " Text(124.94347826086958, 122.31, 'Fare <= 51.698\\nentropy = 0.204\\nsamples = 433\\nvalue = [383, 50]'),\n",
       " Text(99.4695652173913, 95.13, 'Age <= 13.0\\nentropy = 0.193\\nsamples = 417\\nvalue = [372, 45]'),\n",
       " Text(87.33913043478262, 67.94999999999999, 'SibSp <= 2.0\\nentropy = 0.444\\nsamples = 12\\nvalue = [8, 4]'),\n",
       " Text(82.48695652173913, 40.77000000000001, 'SibSp <= 0.5\\nentropy = 0.32\\nsamples = 5\\nvalue = [1, 4]'),\n",
       " Text(77.63478260869566, 13.590000000000003, 'entropy = 0.5\\nsamples = 2\\nvalue = [1, 1]'),\n",
       " Text(87.33913043478262, 13.590000000000003, 'entropy = 0.0\\nsamples = 3\\nvalue = [0, 3]'),\n",
       " Text(92.19130434782609, 40.77000000000001, 'entropy = 0.0\\nsamples = 7\\nvalue = [7, 0]'),\n",
       " Text(111.60000000000001, 67.94999999999999, 'Age <= 32.25\\nentropy = 0.182\\nsamples = 405\\nvalue = [364, 41]'),\n",
       " Text(101.89565217391305, 40.77000000000001, 'Age <= 30.75\\nentropy = 0.206\\nsamples = 300\\nvalue = [265, 35]'),\n",
       " Text(97.04347826086958, 13.590000000000003, 'entropy = 0.185\\nsamples = 282\\nvalue = [253, 29]'),\n",
       " Text(106.74782608695654, 13.590000000000003, 'entropy = 0.444\\nsamples = 18\\nvalue = [12, 6]'),\n",
       " Text(121.30434782608697, 40.77000000000001, 'Fare <= 7.91\\nentropy = 0.108\\nsamples = 105\\nvalue = [99, 6]'),\n",
       " Text(116.45217391304348, 13.590000000000003, 'entropy = 0.0\\nsamples = 32\\nvalue = [32, 0]'),\n",
       " Text(126.15652173913044, 13.590000000000003, 'entropy = 0.151\\nsamples = 73\\nvalue = [67, 6]'),\n",
       " Text(150.41739130434783, 95.13, 'Fare <= 63.023\\nentropy = 0.43\\nsamples = 16\\nvalue = [11, 5]'),\n",
       " Text(145.56521739130437, 67.94999999999999, 'Age <= 30.0\\nentropy = 0.408\\nsamples = 7\\nvalue = [2, 5]'),\n",
       " Text(140.7130434782609, 40.77000000000001, 'Age <= 27.0\\nentropy = 0.48\\nsamples = 5\\nvalue = [2, 3]'),\n",
       " Text(135.8608695652174, 13.590000000000003, 'entropy = 0.0\\nsamples = 1\\nvalue = [0, 1]'),\n",
       " Text(145.56521739130437, 13.590000000000003, 'entropy = 0.5\\nsamples = 4\\nvalue = [2, 2]'),\n",
       " Text(150.41739130434783, 40.77000000000001, 'entropy = 0.0\\nsamples = 2\\nvalue = [0, 2]'),\n",
       " Text(155.26956521739132, 67.94999999999999, 'entropy = 0.0\\nsamples = 9\\nvalue = [9, 0]'),\n",
       " Text(232.60108695652175, 176.67000000000002, 'Pclass <= 2.5\\nentropy = 0.383\\nsamples = 314\\nvalue = [81, 233]'),\n",
       " Text(177.10434782608698, 149.49, 'Age <= 2.5\\nentropy = 0.1\\nsamples = 170\\nvalue = [9, 161]'),\n",
       " Text(164.97391304347826, 122.31, 'Pclass <= 1.5\\nentropy = 0.5\\nsamples = 2\\nvalue = [1, 1]'),\n",
       " Text(160.1217391304348, 95.13, 'entropy = 0.0\\nsamples = 1\\nvalue = [1, 0]'),\n",
       " Text(169.82608695652175, 95.13, 'entropy = 0.0\\nsamples = 1\\nvalue = [0, 1]'),\n",
       " Text(189.23478260869567, 122.31, 'Fare <= 28.856\\nentropy = 0.091\\nsamples = 168\\nvalue = [8, 160]'),\n",
       " Text(179.53043478260872, 95.13, 'Fare <= 28.231\\nentropy = 0.182\\nsamples = 69\\nvalue = [7, 62]'),\n",
       " Text(174.67826086956524, 67.94999999999999, 'Age <= 56.0\\nentropy = 0.161\\nsamples = 68\\nvalue = [6, 62]'),\n",
       " Text(164.97391304347826, 40.77000000000001, 'SibSp <= 0.5\\nentropy = 0.14\\nsamples = 66\\nvalue = [5, 61]'),\n",
       " Text(160.1217391304348, 13.590000000000003, 'entropy = 0.085\\nsamples = 45\\nvalue = [2, 43]'),\n",
       " Text(169.82608695652175, 13.590000000000003, 'entropy = 0.245\\nsamples = 21\\nvalue = [3, 18]'),\n",
       " Text(184.38260869565218, 40.77000000000001, 'Pclass <= 1.5\\nentropy = 0.5\\nsamples = 2\\nvalue = [1, 1]'),\n",
       " Text(179.53043478260872, 13.590000000000003, 'entropy = 0.0\\nsamples = 1\\nvalue = [0, 1]'),\n",
       " Text(189.23478260869567, 13.590000000000003, 'entropy = 0.0\\nsamples = 1\\nvalue = [1, 0]'),\n",
       " Text(184.38260869565218, 67.94999999999999, 'entropy = 0.0\\nsamples = 1\\nvalue = [1, 0]'),\n",
       " Text(198.9391304347826, 95.13, 'Parch <= 1.5\\nentropy = 0.02\\nsamples = 99\\nvalue = [1, 98]'),\n",
       " Text(194.08695652173915, 67.94999999999999, 'entropy = 0.0\\nsamples = 84\\nvalue = [0, 84]'),\n",
       " Text(203.7913043478261, 67.94999999999999, 'Age <= 24.5\\nentropy = 0.124\\nsamples = 15\\nvalue = [1, 14]'),\n",
       " Text(198.9391304347826, 40.77000000000001, 'entropy = 0.0\\nsamples = 10\\nvalue = [0, 10]'),\n",
       " Text(208.64347826086959, 40.77000000000001, 'Age <= 28.0\\nentropy = 0.32\\nsamples = 5\\nvalue = [1, 4]'),\n",
       " Text(203.7913043478261, 13.590000000000003, 'entropy = 0.0\\nsamples = 1\\nvalue = [1, 0]'),\n",
       " Text(213.49565217391307, 13.590000000000003, 'entropy = 0.0\\nsamples = 4\\nvalue = [0, 4]'),\n",
       " Text(288.09782608695656, 149.49, 'Fare <= 23.35\\nentropy = 0.5\\nsamples = 144\\nvalue = [72, 72]'),\n",
       " Text(270.5086956521739, 122.31, 'Age <= 36.5\\nentropy = 0.484\\nsamples = 117\\nvalue = [48, 69]'),\n",
       " Text(254.73913043478262, 95.13, 'Embarked <= 0.5\\nentropy = 0.472\\nsamples = 110\\nvalue = [42, 68]'),\n",
       " Text(237.75652173913045, 67.94999999999999, 'Fare <= 10.825\\nentropy = 0.499\\nsamples = 57\\nvalue = [27, 30]'),\n",
       " Text(228.0521739130435, 40.77000000000001, 'Fare <= 7.763\\nentropy = 0.489\\nsamples = 33\\nvalue = [19, 14]'),\n",
       " Text(223.20000000000002, 13.590000000000003, 'entropy = 0.278\\nsamples = 6\\nvalue = [1, 5]'),\n",
       " Text(232.90434782608696, 13.590000000000003, 'entropy = 0.444\\nsamples = 27\\nvalue = [18, 9]'),\n",
       " Text(247.46086956521742, 40.77000000000001, 'Fare <= 17.6\\nentropy = 0.444\\nsamples = 24\\nvalue = [8, 16]'),\n",
       " Text(242.60869565217394, 13.590000000000003, 'entropy = 0.231\\nsamples = 15\\nvalue = [2, 13]'),\n",
       " Text(252.31304347826088, 13.590000000000003, 'entropy = 0.444\\nsamples = 9\\nvalue = [6, 3]'),\n",
       " Text(271.7217391304348, 67.94999999999999, 'Age <= 29.75\\nentropy = 0.406\\nsamples = 53\\nvalue = [15, 38]'),\n",
       " Text(266.8695652173913, 40.77000000000001, 'Fare <= 15.373\\nentropy = 0.38\\nsamples = 51\\nvalue = [13, 38]'),\n",
       " Text(262.0173913043478, 13.590000000000003, 'entropy = 0.439\\nsamples = 40\\nvalue = [13, 27]'),\n",
       " Text(271.7217391304348, 13.590000000000003, 'entropy = 0.0\\nsamples = 11\\nvalue = [0, 11]'),\n",
       " Text(276.5739130434783, 40.77000000000001, 'entropy = 0.0\\nsamples = 2\\nvalue = [2, 0]'),\n",
       " Text(286.27826086956526, 95.13, 'Age <= 55.0\\nentropy = 0.245\\nsamples = 7\\nvalue = [6, 1]'),\n",
       " Text(281.4260869565218, 67.94999999999999, 'entropy = 0.0\\nsamples = 6\\nvalue = [6, 0]'),\n",
       " Text(291.13043478260875, 67.94999999999999, 'entropy = 0.0\\nsamples = 1\\nvalue = [0, 1]'),\n",
       " Text(305.68695652173915, 122.31, 'Parch <= 0.5\\nentropy = 0.198\\nsamples = 27\\nvalue = [24, 3]'),\n",
       " Text(300.83478260869566, 95.13, 'entropy = 0.0\\nsamples = 1\\nvalue = [0, 1]'),\n",
       " Text(310.53913043478263, 95.13, 'Age <= 5.5\\nentropy = 0.142\\nsamples = 26\\nvalue = [24, 2]'),\n",
       " Text(300.83478260869566, 67.94999999999999, 'Fare <= 31.331\\nentropy = 0.444\\nsamples = 3\\nvalue = [2, 1]'),\n",
       " Text(295.9826086956522, 40.77000000000001, 'entropy = 0.0\\nsamples = 2\\nvalue = [2, 0]'),\n",
       " Text(305.68695652173915, 40.77000000000001, 'entropy = 0.0\\nsamples = 1\\nvalue = [0, 1]'),\n",
       " Text(320.2434782608696, 67.94999999999999, 'Parch <= 4.5\\nentropy = 0.083\\nsamples = 23\\nvalue = [22, 1]'),\n",
       " Text(315.3913043478261, 40.77000000000001, 'entropy = 0.0\\nsamples = 18\\nvalue = [18, 0]'),\n",
       " Text(325.0956521739131, 40.77000000000001, 'Age <= 38.5\\nentropy = 0.32\\nsamples = 5\\nvalue = [4, 1]'),\n",
       " Text(320.2434782608696, 13.590000000000003, 'entropy = 0.0\\nsamples = 1\\nvalue = [0, 1]'),\n",
       " Text(329.9478260869565, 13.590000000000003, 'entropy = 0.0\\nsamples = 4\\nvalue = [4, 0]')]"
      ]
     },
     "execution_count": 11,
     "metadata": {},
     "output_type": "execute_result"
    },
    {
     "data": {
      "image/png": "[encoded data removed]",
      "text/plain": [
       "<Figure size 432x288 with 1 Axes>"
      ]
     },
     "metadata": {
      "needs_background": "light"
     },
     "output_type": "display_data"
    }
   ],
   "source": [
    "#Separando features para segundo treinamento com profundidade máxima na árvore\n",
    "feat_dois = treinamento[nomes_feat].values\n",
    "arvore_decisao_dois = tree.DecisionTreeClassifier(\n",
    "    max_depth = 7,\n",
    "    random_state = 1\n",
    ")\n",
    "\n",
    "arvore_decisao_dois = arvore_decisao_dois.fit(feat_dois, alvo)\n",
    "print(arvore_decisao_dois.feature_importances_)\n",
    "print(arvore_decisao_dois.score(feat_dois, alvo))\n",
    "tree.plot_tree(arvore_decisao_dois, feature_names=nomes_feat)\n"
   ]
  },
  {
   "cell_type": "code",
   "execution_count": 12,
   "metadata": {},
   "outputs": [
    {
     "name": "stdout",
     "output_type": "stream",
     "text": [
      "[0.625      0.78688525 0.61016949 0.83333333 0.82539683 0.72131148\n",
      " 0.72413793 0.62068966 0.8        0.82352941]\n",
      "0.7370453369538661\n"
     ]
    }
   ],
   "source": [
    "#validação cruzada para checar a precisão do modelo\n",
    "scores = model_selection.cross_val_score(arvore_decisao_dois,feat_dois, alvo, scoring='f1', cv=10)\n",
    "print(scores)\n",
    "print(scores.mean())"
   ]
  },
  {
   "cell_type": "code",
   "execution_count": 13,
   "metadata": {},
   "outputs": [
    {
     "name": "stdout",
     "output_type": "stream",
     "text": [
      "\n",
      " Nova previsão\n"
     ]
    }
   ],
   "source": [
    "print(\"\\n Nova previsão\")\n",
    "\n",
    "teste_feat_dois = teste[[\"Pclass\", \"Age\", \"Fare\", \"Embarked\", \"Sex\", \"SibSp\", \"Parch\"]].values\n",
    "#realizando nova precisão baseada na segunda árvore de decisões e salvando e .csv\n",
    "previsao_dois = arvore_decisao_dois.predict(teste_feat_dois)\n",
    "limparDados.escrever_previsao(previsao_dois, \"arvore_decisao_dois.csv\")"
   ]
  }
 ],
 "metadata": {
  "kernelspec": {
   "display_name": "Python 3",
   "language": "python",
   "name": "python3"
  },
  "language_info": {
   "codemirror_mode": {
    "name": "ipython",
    "version": 3
   },
   "file_extension": ".py",
   "mimetype": "text/x-python",
   "name": "python",
   "nbconvert_exporter": "python",
   "pygments_lexer": "ipython3",
   "version": "3.6.8"
  }
 },
 "nbformat": 4,
 "nbformat_minor": 2
}
