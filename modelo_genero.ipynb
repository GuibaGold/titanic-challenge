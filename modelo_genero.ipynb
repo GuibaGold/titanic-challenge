{
 "cells": [
  {
   "cell_type": "markdown",
   "metadata": {},
   "source": [
    "Modelo simplista criado a partir da informação dos dados levando em conta apenas o Gênero do Passageiro:"
   ]
  },
  {
   "cell_type": "code",
   "execution_count": 1,
   "metadata": {},
   "outputs": [],
   "source": [
    "import pandas as pandas\n",
    "\n",
    "treinamento = pandas.read_csv(\"train.csv\")\n",
    "teste = pandas.read_csv(\"test.csv\")"
   ]
  },
  {
   "cell_type": "code",
   "execution_count": 2,
   "metadata": {},
   "outputs": [
    {
     "name": "stdout",
     "output_type": "stream",
     "text": [
      "Sobreviveu:1 / Não Sobreviveu:0\n",
      "0    549\n",
      "1    342\n",
      "Name: Survived, dtype: int64\n"
     ]
    }
   ],
   "source": [
    "print(\"Sobreviveu:1 / Não Sobreviveu:0\")\n",
    "#Contagem de sobreviventes no total\n",
    "print(treinamento[\"Survived\"].value_counts())"
   ]
  },
  {
   "cell_type": "code",
   "execution_count": 3,
   "metadata": {},
   "outputs": [
    {
     "name": "stdout",
     "output_type": "stream",
     "text": [
      "\n",
      "Em Porcentagem\n",
      "0    0.616162\n",
      "1    0.383838\n",
      "Name: Survived, dtype: float64\n"
     ]
    }
   ],
   "source": [
    "print(\"\\nEm Porcentagem\")\n",
    "#Em porcentagem o número de sobreviventes de ambos os gêneros\n",
    "print(treinamento[\"Survived\"].value_counts(normalize=True))"
   ]
  },
  {
   "cell_type": "code",
   "execution_count": 4,
   "metadata": {},
   "outputs": [
    {
     "name": "stdout",
     "output_type": "stream",
     "text": [
      "Homens> Sobreviveu:1 / Não Sobreviveu:0\n",
      "0    0.811092\n",
      "1    0.188908\n",
      "Name: Survived, dtype: float64\n",
      "Mulheres> Sobreviveu:1 / Não Sobreviveu:0\n",
      "1    0.742038\n",
      "0    0.257962\n",
      "Name: Survived, dtype: float64\n"
     ]
    }
   ],
   "source": [
    "print(\"Homens> Sobreviveu:1 / Não Sobreviveu:0\")\n",
    "#número de homens que sobreviveu\n",
    "print(treinamento[\"Survived\"][treinamento[\"Sex\"] == \"male\"].value_counts(normalize=True))\n",
    "\n",
    "print(\"Mulheres> Sobreviveu:1 / Não Sobreviveu:0\")\n",
    "#número de mulheres que sobreviveu\n",
    "print(treinamento[\"Survived\"][treinamento[\"Sex\"] == \"female\"].value_counts(normalize=True))"
   ]
  },
  {
   "cell_type": "code",
   "execution_count": 11,
   "metadata": {},
   "outputs": [
    {
     "name": "stdout",
     "output_type": "stream",
     "text": [
      "Adicionando coluna de Criança\n"
     ]
    }
   ],
   "source": [
    "print(\"Adicionando coluna de Criança\")\n",
    "#adicionando coluna de criança, para verificar se o fato de ser criança influenciará nas chances de sobrevivência do passageiro\n",
    "treinamento[\"Crianca\"] = float('NaN')\n",
    "treinamento.loc[treinamento[\"Age\"] >= 18, \"Crianca\"] = 0\n",
    "treinamento.loc[treinamento[\"Age\"] < 18, \"Crianca\"] = 1"
   ]
  },
  {
   "cell_type": "code",
   "execution_count": 10,
   "metadata": {},
   "outputs": [
    {
     "name": "stdout",
     "output_type": "stream",
     "text": [
      "Crianças> Sobreviveu:1 / Não Sobreviveu:0\n",
      "1    0.539823\n",
      "0    0.460177\n",
      "Name: Survived, dtype: float64\n"
     ]
    }
   ],
   "source": [
    "\n",
    "print(\"Crianças> Sobreviveu:1 / Não Sobreviveu:0\")\n",
    "print(treinamento[\"Survived\"][treinamento[\"Crianca\"] == 1].value_counts(normalize=True))"
   ]
  },
  {
   "cell_type": "markdown",
   "metadata": {},
   "source": [
    "Como a porcentagem de crianças que sobreviveram é praticamente 50%, não há como realizar uma previsão se baseando também se o passageiro era criança ou adulto."
   ]
  },
  {
   "cell_type": "code",
   "execution_count": 14,
   "metadata": {},
   "outputs": [
    {
     "name": "stdout",
     "output_type": "stream",
     "text": [
      "\n",
      " Previsão 1 se Mulher e 0 se Homem\n"
     ]
    }
   ],
   "source": [
    "print(\"\\n Previsão 1 se Mulher e 0 se Homem\")\n",
    "teste_1 = teste\n",
    "teste_1[\"Survived\"] = 0\n",
    "teste_1.loc[(teste_1[\"Sex\"] == \"female\"), \"Survived\"] = 1\n",
    "teste_1.to_csv(\"model_genero.csv\", index=False, columns=[\"PassengerId\", \"Survived\"])"
   ]
  },
  {
   "cell_type": "code",
   "execution_count": 15,
   "metadata": {},
   "outputs": [
    {
     "name": "stdout",
     "output_type": "stream",
     "text": [
      "\n",
      "Verificar precisão do Modelo com o DataSet de treinamento\n",
      "1    0.786756\n",
      "0    0.213244\n",
      "Name: Resultado, dtype: float64\n"
     ]
    }
   ],
   "source": [
    "print(\"\\nVerificar precisão do Modelo com o DataSet de treinamento\")\n",
    "treinamento[\"Hipotese\"] = 0\n",
    "treinamento.loc[treinamento[\"Sex\"] == \"female\", \"Hipotese\"] = 1\n",
    "\n",
    "treinamento[\"Resultado\"] = 0\n",
    "treinamento.loc[treinamento[\"Hipotese\"] == treinamento[\"Survived\"], \"Resultado\"] = 1\n",
    "print(treinamento[\"Resultado\"].value_counts(normalize=True))"
   ]
  },
  {
   "cell_type": "markdown",
   "metadata": {},
   "source": [
    "78% de precisão baseado apenas no Gênero do Passageiro! Resultado satisfatório levando em conta o nível de dificuldade de implementação do algorítmo"
   ]
  }
 ],
 "metadata": {
  "kernelspec": {
   "display_name": "Python 3",
   "language": "python",
   "name": "python3"
  },
  "language_info": {
   "codemirror_mode": {
    "name": "ipython",
    "version": 3
   },
   "file_extension": ".py",
   "mimetype": "text/x-python",
   "name": "python",
   "nbconvert_exporter": "python",
   "pygments_lexer": "ipython3",
   "version": "3.6.8"
  }
 },
 "nbformat": 4,
 "nbformat_minor": 2
}
